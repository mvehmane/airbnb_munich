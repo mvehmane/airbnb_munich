{
 "cells": [
  {
   "cell_type": "markdown",
   "metadata": {},
   "source": [
    "### joda_01_kehitysympäristö\n",
    "Jupyter Notebook (ver. 5.7.8) ympäristö Anaconda (ver. 1.9.7) jakeluna omalle PC:lle asennettuna.\n",
    "Asennus onnistuu https://www.anaconda.com/distribution/ sivuilta valitsemalla oikea käyttöjärjestelmä ja haluttu Python versio.\n",
    "Editorina Microsoft Visual Studio Code (ver. 1.40.1) PC:lle asennettuna.\n",
    "Asennus onnistuu https://code.visualstudio.com/download sivuilta valitsemalla oikea käyttöjärjestelmä.\n",
    "GitHub toimii julkaisualustana sivulla https://github.com/mvehmane/airbnb_munich\n",
    "GitHub on käytettävissä sekä web että desktop ympäristössä.\n",
    "GitHub tili on tullut joskus aikaisemmin aktivoitua vaikka en sitä olekaan varsinaisesti käyttänyt.\n",
    "Asennan myös desktop version harjoittelua varten.\n",
    "Desktop asennus https://desktop.github.com/\n",
    "\n",
    "Näillä työkaluilla yritetään pärjätä ja tarvittaessa asennetaan lisää harjoituksen tekemiseksi.\n"
   ]
  },
  {
   "cell_type": "markdown",
   "metadata": {},
   "source": [
    "### joda_02_datan_kerääminen"
   ]
  }
 ],
 "metadata": {
  "kernelspec": {
   "display_name": "Python 3",
   "language": "python",
   "name": "python3"
  },
  "language_info": {
   "codemirror_mode": {
    "name": "ipython",
    "version": 3
   },
   "file_extension": ".py",
   "mimetype": "text/x-python",
   "name": "python",
   "nbconvert_exporter": "python",
   "pygments_lexer": "ipython3",
   "version": "3.7.3"
  }
 },
 "nbformat": 4,
 "nbformat_minor": 2
}
