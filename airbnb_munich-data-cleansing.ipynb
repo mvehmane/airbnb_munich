{
 "cells": [
  {
   "cell_type": "markdown",
   "metadata": {},
   "source": [
    "## joda_01_kehitysympäristö\n",
    "Jupyter Notebook (ver. 5.7.8) ympäristö Anaconda (ver. 1.9.7) jakeluna omalle PC:lle asennettuna. <br>\n",
    "Asennus onnistuu https://www.anaconda.com/distribution/ sivuilta valitsemalla oikea käyttöjärjestelmä ja haluttu Python versio.<br>\n",
    "\n",
    "Editorina Microsoft Visual Studio Code (ver. 1.40.1) PC:lle asennettuna. <br>\n",
    "Asennus onnistuu https://code.visualstudio.com/download sivuilta valitsemalla oikea käyttöjärjestelmä. <br>\n",
    "\n",
    "GitHub toimii julkaisualustana sivulla https://github.com/mvehmane/airbnb_munich <br>\n",
    "GitHub tili on tullut joskus aikaisemmin aktivoitua vaikka en sitä olekaan varsinaisesti käyttänyt. <br>\n",
    "GitHub on käytettävissä sekä web että desktop ympäristössä. <br>\n",
    "Asennan myös desktop version harjoittelua varten. <br>\n",
    "Desktop asennus https://desktop.github.com/ <br>\n",
    "\n",
    "Näillä työkaluilla yritetään pärjätä ja tarvittaessa asennetaan lisää harjoituksen tekemiseksi.\n"
   ]
  },
  {
   "cell_type": "markdown",
   "metadata": {},
   "source": [
    "### kirjastojen haku\n",
    "asennetaan kirjastot yhdessä solussa: <br>\n",
    "pandas - dataframes <br>\n",
    "numpy - math <br>\n",
    "sklearn - machine learning <br>\n",
    "matplotlib - numerical plotting <br>\n",
    "collections _ <br>\n",
    "scipy - numerical plotting<br>\n",
    "seaborn - data visualization <br>\n",
    "plotly - data analytics and visualization <br>\n",
    "dash - analytical web applications <br>\n",
    "\n",
    "\n",
    "\n",
    "\n",
    "\n",
    "\n"
   ]
  },
  {
   "cell_type": "code",
   "execution_count": 1,
   "metadata": {},
   "outputs": [],
   "source": [
    "#kirjastojen asennus\n",
    "%matplotlib inline\n",
    "import pandas as pd\n",
    "import numpy as np\n",
    "from sklearn import ensemble\n",
    "from sklearn import linear_model\n",
    "from sklearn.model_selection import learning_curve,GridSearchCV\n",
    "from sklearn import preprocessing\n",
    "from sklearn.model_selection import train_test_split\n",
    "import sklearn.metrics as metrics\n",
    "import matplotlib\n",
    "import matplotlib.pyplot as plt\n",
    "from collections import Counter\n",
    "import scipy\n",
    "import seaborn as sns\n"
   ]
  },
  {
   "cell_type": "markdown",
   "metadata": {},
   "source": [
    "## joda_02_datan_kerääminen\n",
    "Käytetään insideairbnb sivuston dataa kohdekaupunkina Munich, käytettävissä on kolme datapakettia. <br>\n",
    "Inside Airbnb sivusto ei kerro tarkemmin datan ominaisuuksista, joten on itse arvioitava eri tietojen hyödyllisyyttä ja käyttökelpoisuutta. <br>\n",
    "Haetaan kaikki kolme datapakettia: <br>\n",
    "1. Detailed Listings data for Munich <br>\n",
    "2. Detailed Calendar Data for listings in Munich <br>\n",
    "3. Detailed Review Data for listings in Munich <br>\n",
    "\n",
    "\n"
   ]
  },
  {
   "cell_type": "code",
   "execution_count": 2,
   "metadata": {},
   "outputs": [
    {
     "name": "stderr",
     "output_type": "stream",
     "text": [
      "C:\\ProgramData\\Anaconda3\\lib\\site-packages\\IPython\\core\\interactiveshell.py:3049: DtypeWarning: Columns (43,61,62,94) have mixed types. Specify dtype option on import or set low_memory=False.\n",
      "  interactivity=interactivity, compiler=compiler, result=result)\n"
     ]
    },
    {
     "data": {
      "text/plain": [
       "0                                                id\n",
       "1                                       listing_url\n",
       "2                                         scrape_id\n",
       "3                                      last_scraped\n",
       "4                                              name\n",
       "5                                           summary\n",
       "6                                             space\n",
       "7                                       description\n",
       "8                               experiences_offered\n",
       "9                             neighborhood_overview\n",
       "10                                            notes\n",
       "11                                          transit\n",
       "12                                           access\n",
       "13                                      interaction\n",
       "14                                      house_rules\n",
       "15                                    thumbnail_url\n",
       "16                                       medium_url\n",
       "17                                      picture_url\n",
       "18                                   xl_picture_url\n",
       "19                                          host_id\n",
       "20                                         host_url\n",
       "21                                        host_name\n",
       "22                                       host_since\n",
       "23                                    host_location\n",
       "24                                       host_about\n",
       "25                               host_response_time\n",
       "26                               host_response_rate\n",
       "27                             host_acceptance_rate\n",
       "28                                host_is_superhost\n",
       "29                               host_thumbnail_url\n",
       "30                                 host_picture_url\n",
       "31                               host_neighbourhood\n",
       "32                              host_listings_count\n",
       "33                        host_total_listings_count\n",
       "34                               host_verifications\n",
       "35                             host_has_profile_pic\n",
       "36                           host_identity_verified\n",
       "37                                           street\n",
       "38                                    neighbourhood\n",
       "39                           neighbourhood_cleansed\n",
       "40                     neighbourhood_group_cleansed\n",
       "41                                             city\n",
       "42                                            state\n",
       "43                                          zipcode\n",
       "44                                           market\n",
       "45                                   smart_location\n",
       "46                                     country_code\n",
       "47                                          country\n",
       "48                                         latitude\n",
       "49                                        longitude\n",
       "50                                is_location_exact\n",
       "51                                    property_type\n",
       "52                                        room_type\n",
       "53                                     accommodates\n",
       "54                                        bathrooms\n",
       "55                                         bedrooms\n",
       "56                                             beds\n",
       "57                                         bed_type\n",
       "58                                        amenities\n",
       "59                                      square_feet\n",
       "60                                            price\n",
       "61                                     weekly_price\n",
       "62                                    monthly_price\n",
       "63                                 security_deposit\n",
       "64                                     cleaning_fee\n",
       "65                                  guests_included\n",
       "66                                     extra_people\n",
       "67                                   minimum_nights\n",
       "68                                   maximum_nights\n",
       "69                           minimum_minimum_nights\n",
       "70                           maximum_minimum_nights\n",
       "71                           minimum_maximum_nights\n",
       "72                           maximum_maximum_nights\n",
       "73                           minimum_nights_avg_ntm\n",
       "74                           maximum_nights_avg_ntm\n",
       "75                                 calendar_updated\n",
       "76                                 has_availability\n",
       "77                                  availability_30\n",
       "78                                  availability_60\n",
       "79                                  availability_90\n",
       "80                                 availability_365\n",
       "81                            calendar_last_scraped\n",
       "82                                number_of_reviews\n",
       "83                            number_of_reviews_ltm\n",
       "84                                     first_review\n",
       "85                                      last_review\n",
       "86                             review_scores_rating\n",
       "87                           review_scores_accuracy\n",
       "88                        review_scores_cleanliness\n",
       "89                            review_scores_checkin\n",
       "90                      review_scores_communication\n",
       "91                           review_scores_location\n",
       "92                              review_scores_value\n",
       "93                                 requires_license\n",
       "94                                          license\n",
       "95                               jurisdiction_names\n",
       "96                                 instant_bookable\n",
       "97                         is_business_travel_ready\n",
       "98                              cancellation_policy\n",
       "99                    require_guest_profile_picture\n",
       "100                require_guest_phone_verification\n",
       "101                  calculated_host_listings_count\n",
       "102     calculated_host_listings_count_entire_homes\n",
       "103    calculated_host_listings_count_private_rooms\n",
       "104     calculated_host_listings_count_shared_rooms\n",
       "105                               reviews_per_month\n",
       "dtype: object"
      ]
     },
     "execution_count": 2,
     "metadata": {},
     "output_type": "execute_result"
    }
   ],
   "source": [
    "listings_file = 'http://data.insideairbnb.com/germany/bv/munich/2019-09-24/data/listings.csv.gz'\n",
    "\n",
    "# read listings file into a dataframe\n",
    "df_listings = pd.read_csv(listings_file, compression='gzip')\n",
    "df_listings.to_csv('listings.csv')\n",
    "# tutkitaan datasettiä sarakenimien avulla\n",
    "pd.options.display.max_rows=110\n",
    "pd.Series(df_listings.columns)"
   ]
  },
  {
   "cell_type": "code",
   "execution_count": 3,
   "metadata": {},
   "outputs": [
    {
     "data": {
      "text/plain": [
       "Index(['listing_id', 'date', 'available', 'price', 'adjusted_price',\n",
       "       'minimum_nights', 'maximum_nights'],\n",
       "      dtype='object')"
      ]
     },
     "execution_count": 3,
     "metadata": {},
     "output_type": "execute_result"
    }
   ],
   "source": [
    "# read calendar file into a dataframe\n",
    "calendar_file = 'http://data.insideairbnb.com/germany/bv/munich/2019-09-24/data/calendar.csv.gz'\n",
    "df_calendar = pd.read_csv(calendar_file, compression='gzip')\n",
    "df_calendar.to_csv('calendar.csv')\n",
    "# sarakkeiden listaus\n",
    "df_calendar.columns"
   ]
  },
  {
   "cell_type": "code",
   "execution_count": 4,
   "metadata": {},
   "outputs": [
    {
     "data": {
      "text/plain": [
       "Index(['listing_id', 'id', 'date', 'reviewer_id', 'reviewer_name', 'comments'], dtype='object')"
      ]
     },
     "execution_count": 4,
     "metadata": {},
     "output_type": "execute_result"
    }
   ],
   "source": [
    "# read reviews file into a dataframe\n",
    "reviews_file = 'http://data.insideairbnb.com/germany/bv/munich/2019-09-24/data/reviews.csv.gz'\n",
    "df_reviews = pd.read_csv(reviews_file, compression='gzip')\n",
    "df_reviews.to_csv('reviews.csv')\n",
    "# sarakkeiden listaus\n",
    "df_reviews.columns"
   ]
  },
  {
   "cell_type": "code",
   "execution_count": 5,
   "metadata": {},
   "outputs": [
    {
     "data": {
      "text/html": [
       "<div>\n",
       "<style scoped>\n",
       "    .dataframe tbody tr th:only-of-type {\n",
       "        vertical-align: middle;\n",
       "    }\n",
       "\n",
       "    .dataframe tbody tr th {\n",
       "        vertical-align: top;\n",
       "    }\n",
       "\n",
       "    .dataframe thead th {\n",
       "        text-align: right;\n",
       "    }\n",
       "</style>\n",
       "<table border=\"1\" class=\"dataframe\">\n",
       "  <thead>\n",
       "    <tr style=\"text-align: right;\">\n",
       "      <th></th>\n",
       "      <th>listing_id</th>\n",
       "      <th>id</th>\n",
       "      <th>date</th>\n",
       "      <th>reviewer_id</th>\n",
       "      <th>reviewer_name</th>\n",
       "      <th>comments</th>\n",
       "    </tr>\n",
       "  </thead>\n",
       "  <tbody>\n",
       "    <tr>\n",
       "      <th>0</th>\n",
       "      <td>36720</td>\n",
       "      <td>12723661</td>\n",
       "      <td>2014-05-09</td>\n",
       "      <td>11840468</td>\n",
       "      <td>Mikhail</td>\n",
       "      <td>I would like to thank Gabriella as her apartme...</td>\n",
       "    </tr>\n",
       "    <tr>\n",
       "      <th>1</th>\n",
       "      <td>36720</td>\n",
       "      <td>13147830</td>\n",
       "      <td>2014-05-20</td>\n",
       "      <td>5466213</td>\n",
       "      <td>Kim</td>\n",
       "      <td>Gabriela's place was absolutely fantastic.  It...</td>\n",
       "    </tr>\n",
       "    <tr>\n",
       "      <th>2</th>\n",
       "      <td>36720</td>\n",
       "      <td>16302574</td>\n",
       "      <td>2014-07-25</td>\n",
       "      <td>2062882</td>\n",
       "      <td>Juan R.</td>\n",
       "      <td>Quiet place, open to a courtyard, with all the...</td>\n",
       "    </tr>\n",
       "    <tr>\n",
       "      <th>3</th>\n",
       "      <td>36720</td>\n",
       "      <td>16428874</td>\n",
       "      <td>2014-07-27</td>\n",
       "      <td>1225618</td>\n",
       "      <td>David</td>\n",
       "      <td>The best Airbnb expeierence I've had. The apar...</td>\n",
       "    </tr>\n",
       "    <tr>\n",
       "      <th>4</th>\n",
       "      <td>36720</td>\n",
       "      <td>19478358</td>\n",
       "      <td>2014-09-13</td>\n",
       "      <td>13977301</td>\n",
       "      <td>Cal</td>\n",
       "      <td>All first rate ! Beautiful apartment, comforta...</td>\n",
       "    </tr>\n",
       "  </tbody>\n",
       "</table>\n",
       "</div>"
      ],
      "text/plain": [
       "   listing_id        id        date  reviewer_id reviewer_name  \\\n",
       "0       36720  12723661  2014-05-09     11840468       Mikhail   \n",
       "1       36720  13147830  2014-05-20      5466213           Kim   \n",
       "2       36720  16302574  2014-07-25      2062882       Juan R.   \n",
       "3       36720  16428874  2014-07-27      1225618         David   \n",
       "4       36720  19478358  2014-09-13     13977301           Cal   \n",
       "\n",
       "                                            comments  \n",
       "0  I would like to thank Gabriella as her apartme...  \n",
       "1  Gabriela's place was absolutely fantastic.  It...  \n",
       "2  Quiet place, open to a courtyard, with all the...  \n",
       "3  The best Airbnb expeierence I've had. The apar...  \n",
       "4  All first rate ! Beautiful apartment, comforta...  "
      ]
     },
     "execution_count": 5,
     "metadata": {},
     "output_type": "execute_result"
    }
   ],
   "source": [
    "df_reviews.head()"
   ]
  },
  {
   "cell_type": "code",
   "execution_count": 6,
   "metadata": {},
   "outputs": [],
   "source": [
    "# yhdistetään df_listings ja df.reviews datasetit kohteen id:llä ja luodaan listings_reviews.csv\n",
    "\n",
    "df_listings_reviews = df_listings.merge(df_reviews, left_on='id', right_on='listing_id')\n",
    "df_listings_reviews.to_csv('listings_reviews.csv')"
   ]
  },
  {
   "cell_type": "code",
   "execution_count": 7,
   "metadata": {},
   "outputs": [
    {
     "data": {
      "text/html": [
       "<div>\n",
       "<style scoped>\n",
       "    .dataframe tbody tr th:only-of-type {\n",
       "        vertical-align: middle;\n",
       "    }\n",
       "\n",
       "    .dataframe tbody tr th {\n",
       "        vertical-align: top;\n",
       "    }\n",
       "\n",
       "    .dataframe thead th {\n",
       "        text-align: right;\n",
       "    }\n",
       "</style>\n",
       "<table border=\"1\" class=\"dataframe\">\n",
       "  <thead>\n",
       "    <tr style=\"text-align: right;\">\n",
       "      <th></th>\n",
       "      <th>id_x</th>\n",
       "      <th>listing_url</th>\n",
       "      <th>scrape_id</th>\n",
       "      <th>last_scraped</th>\n",
       "      <th>name</th>\n",
       "      <th>summary</th>\n",
       "      <th>space</th>\n",
       "      <th>description</th>\n",
       "      <th>experiences_offered</th>\n",
       "      <th>neighborhood_overview</th>\n",
       "      <th>...</th>\n",
       "      <th>calculated_host_listings_count_entire_homes</th>\n",
       "      <th>calculated_host_listings_count_private_rooms</th>\n",
       "      <th>calculated_host_listings_count_shared_rooms</th>\n",
       "      <th>reviews_per_month</th>\n",
       "      <th>listing_id</th>\n",
       "      <th>id_y</th>\n",
       "      <th>date</th>\n",
       "      <th>reviewer_id</th>\n",
       "      <th>reviewer_name</th>\n",
       "      <th>comments</th>\n",
       "    </tr>\n",
       "  </thead>\n",
       "  <tbody>\n",
       "    <tr>\n",
       "      <th>0</th>\n",
       "      <td>36720</td>\n",
       "      <td>https://www.airbnb.com/rooms/36720</td>\n",
       "      <td>20190924033931</td>\n",
       "      <td>2019-09-24</td>\n",
       "      <td>Beautiful 2 rooms flat, Glockenbach</td>\n",
       "      <td>Very quiet, yet centrally located 2 rooms apt....</td>\n",
       "      <td>2-Zimmer Altbauwohung Beste Lage, zentral, im ...</td>\n",
       "      <td>Very quiet, yet centrally located 2 rooms apt....</td>\n",
       "      <td>none</td>\n",
       "      <td>Glockenbachviertel area has the hippest restau...</td>\n",
       "      <td>...</td>\n",
       "      <td>1</td>\n",
       "      <td>0</td>\n",
       "      <td>0</td>\n",
       "      <td>0.38</td>\n",
       "      <td>36720</td>\n",
       "      <td>12723661</td>\n",
       "      <td>2014-05-09</td>\n",
       "      <td>11840468</td>\n",
       "      <td>Mikhail</td>\n",
       "      <td>I would like to thank Gabriella as her apartme...</td>\n",
       "    </tr>\n",
       "    <tr>\n",
       "      <th>1</th>\n",
       "      <td>36720</td>\n",
       "      <td>https://www.airbnb.com/rooms/36720</td>\n",
       "      <td>20190924033931</td>\n",
       "      <td>2019-09-24</td>\n",
       "      <td>Beautiful 2 rooms flat, Glockenbach</td>\n",
       "      <td>Very quiet, yet centrally located 2 rooms apt....</td>\n",
       "      <td>2-Zimmer Altbauwohung Beste Lage, zentral, im ...</td>\n",
       "      <td>Very quiet, yet centrally located 2 rooms apt....</td>\n",
       "      <td>none</td>\n",
       "      <td>Glockenbachviertel area has the hippest restau...</td>\n",
       "      <td>...</td>\n",
       "      <td>1</td>\n",
       "      <td>0</td>\n",
       "      <td>0</td>\n",
       "      <td>0.38</td>\n",
       "      <td>36720</td>\n",
       "      <td>13147830</td>\n",
       "      <td>2014-05-20</td>\n",
       "      <td>5466213</td>\n",
       "      <td>Kim</td>\n",
       "      <td>Gabriela's place was absolutely fantastic.  It...</td>\n",
       "    </tr>\n",
       "    <tr>\n",
       "      <th>2</th>\n",
       "      <td>36720</td>\n",
       "      <td>https://www.airbnb.com/rooms/36720</td>\n",
       "      <td>20190924033931</td>\n",
       "      <td>2019-09-24</td>\n",
       "      <td>Beautiful 2 rooms flat, Glockenbach</td>\n",
       "      <td>Very quiet, yet centrally located 2 rooms apt....</td>\n",
       "      <td>2-Zimmer Altbauwohung Beste Lage, zentral, im ...</td>\n",
       "      <td>Very quiet, yet centrally located 2 rooms apt....</td>\n",
       "      <td>none</td>\n",
       "      <td>Glockenbachviertel area has the hippest restau...</td>\n",
       "      <td>...</td>\n",
       "      <td>1</td>\n",
       "      <td>0</td>\n",
       "      <td>0</td>\n",
       "      <td>0.38</td>\n",
       "      <td>36720</td>\n",
       "      <td>16302574</td>\n",
       "      <td>2014-07-25</td>\n",
       "      <td>2062882</td>\n",
       "      <td>Juan R.</td>\n",
       "      <td>Quiet place, open to a courtyard, with all the...</td>\n",
       "    </tr>\n",
       "  </tbody>\n",
       "</table>\n",
       "<p>3 rows × 112 columns</p>\n",
       "</div>"
      ],
      "text/plain": [
       "    id_x                         listing_url       scrape_id last_scraped  \\\n",
       "0  36720  https://www.airbnb.com/rooms/36720  20190924033931   2019-09-24   \n",
       "1  36720  https://www.airbnb.com/rooms/36720  20190924033931   2019-09-24   \n",
       "2  36720  https://www.airbnb.com/rooms/36720  20190924033931   2019-09-24   \n",
       "\n",
       "                                  name  \\\n",
       "0  Beautiful 2 rooms flat, Glockenbach   \n",
       "1  Beautiful 2 rooms flat, Glockenbach   \n",
       "2  Beautiful 2 rooms flat, Glockenbach   \n",
       "\n",
       "                                             summary  \\\n",
       "0  Very quiet, yet centrally located 2 rooms apt....   \n",
       "1  Very quiet, yet centrally located 2 rooms apt....   \n",
       "2  Very quiet, yet centrally located 2 rooms apt....   \n",
       "\n",
       "                                               space  \\\n",
       "0  2-Zimmer Altbauwohung Beste Lage, zentral, im ...   \n",
       "1  2-Zimmer Altbauwohung Beste Lage, zentral, im ...   \n",
       "2  2-Zimmer Altbauwohung Beste Lage, zentral, im ...   \n",
       "\n",
       "                                         description experiences_offered  \\\n",
       "0  Very quiet, yet centrally located 2 rooms apt....                none   \n",
       "1  Very quiet, yet centrally located 2 rooms apt....                none   \n",
       "2  Very quiet, yet centrally located 2 rooms apt....                none   \n",
       "\n",
       "                               neighborhood_overview  ...  \\\n",
       "0  Glockenbachviertel area has the hippest restau...  ...   \n",
       "1  Glockenbachviertel area has the hippest restau...  ...   \n",
       "2  Glockenbachviertel area has the hippest restau...  ...   \n",
       "\n",
       "  calculated_host_listings_count_entire_homes  \\\n",
       "0                                           1   \n",
       "1                                           1   \n",
       "2                                           1   \n",
       "\n",
       "  calculated_host_listings_count_private_rooms  \\\n",
       "0                                            0   \n",
       "1                                            0   \n",
       "2                                            0   \n",
       "\n",
       "  calculated_host_listings_count_shared_rooms reviews_per_month listing_id  \\\n",
       "0                                           0              0.38      36720   \n",
       "1                                           0              0.38      36720   \n",
       "2                                           0              0.38      36720   \n",
       "\n",
       "       id_y        date reviewer_id  reviewer_name  \\\n",
       "0  12723661  2014-05-09    11840468        Mikhail   \n",
       "1  13147830  2014-05-20     5466213            Kim   \n",
       "2  16302574  2014-07-25     2062882        Juan R.   \n",
       "\n",
       "                                            comments  \n",
       "0  I would like to thank Gabriella as her apartme...  \n",
       "1  Gabriela's place was absolutely fantastic.  It...  \n",
       "2  Quiet place, open to a courtyard, with all the...  \n",
       "\n",
       "[3 rows x 112 columns]"
      ]
     },
     "execution_count": 7,
     "metadata": {},
     "output_type": "execute_result"
    }
   ],
   "source": [
    "df_listings_reviews.head(3)\n"
   ]
  },
  {
   "cell_type": "code",
   "execution_count": null,
   "metadata": {},
   "outputs": [],
   "source": []
  },
  {
   "cell_type": "markdown",
   "metadata": {},
   "source": [
    "## joda_03_datan_jalostaminen\n",
    "Hahmotellaan datasettien sisältöä:<br>\n",
    "-koko<br>\n",
    "-tietotyyppi<br>\n",
    "-NaN (not a number) arvojen etsiminen<br>\n",
    "Korjataan dataa tarvittaessa"
   ]
  },
  {
   "cell_type": "markdown",
   "metadata": {},
   "source": [
    "Datasettien hahmottelua df.shape metodilla<br>\n",
    "(rivimäärä, sarakemäärä)\n"
   ]
  },
  {
   "cell_type": "code",
   "execution_count": 8,
   "metadata": {},
   "outputs": [
    {
     "data": {
      "text/plain": [
       "(170005, 6)"
      ]
     },
     "execution_count": 8,
     "metadata": {},
     "output_type": "execute_result"
    }
   ],
   "source": [
    "df_reviews.shape\n"
   ]
  },
  {
   "cell_type": "code",
   "execution_count": 9,
   "metadata": {},
   "outputs": [
    {
     "name": "stdout",
     "output_type": "stream",
     "text": [
      "(12357, 106)\n"
     ]
    }
   ],
   "source": [
    "print(df_listings.shape)"
   ]
  },
  {
   "cell_type": "code",
   "execution_count": 10,
   "metadata": {},
   "outputs": [
    {
     "name": "stdout",
     "output_type": "stream",
     "text": [
      "(4510305, 7)\n"
     ]
    }
   ],
   "source": [
    "print(df_calendar.shape)"
   ]
  },
  {
   "cell_type": "code",
   "execution_count": 11,
   "metadata": {},
   "outputs": [
    {
     "data": {
      "text/plain": [
       "(170005, 112)"
      ]
     },
     "execution_count": 11,
     "metadata": {},
     "output_type": "execute_result"
    }
   ],
   "source": [
    "df_listings_reviews.shape"
   ]
  },
  {
   "cell_type": "markdown",
   "metadata": {},
   "source": [
    "Datasettien hahmottelua df.info metodilla"
   ]
  },
  {
   "cell_type": "code",
   "execution_count": 12,
   "metadata": {},
   "outputs": [
    {
     "name": "stdout",
     "output_type": "stream",
     "text": [
      "<class 'pandas.core.frame.DataFrame'>\n",
      "RangeIndex: 12357 entries, 0 to 12356\n",
      "Columns: 106 entries, id to reviews_per_month\n",
      "dtypes: float64(24), int64(21), object(61)\n",
      "memory usage: 10.0+ MB\n"
     ]
    }
   ],
   "source": [
    "df_listings.info()"
   ]
  },
  {
   "cell_type": "code",
   "execution_count": 13,
   "metadata": {},
   "outputs": [
    {
     "name": "stdout",
     "output_type": "stream",
     "text": [
      "<class 'pandas.core.frame.DataFrame'>\n",
      "RangeIndex: 4510305 entries, 0 to 4510304\n",
      "Data columns (total 7 columns):\n",
      "listing_id        int64\n",
      "date              object\n",
      "available         object\n",
      "price             object\n",
      "adjusted_price    object\n",
      "minimum_nights    int64\n",
      "maximum_nights    int64\n",
      "dtypes: int64(3), object(4)\n",
      "memory usage: 240.9+ MB\n"
     ]
    }
   ],
   "source": [
    "df_calendar.info()"
   ]
  },
  {
   "cell_type": "code",
   "execution_count": 14,
   "metadata": {},
   "outputs": [
    {
     "name": "stdout",
     "output_type": "stream",
     "text": [
      "<class 'pandas.core.frame.DataFrame'>\n",
      "RangeIndex: 170005 entries, 0 to 170004\n",
      "Data columns (total 6 columns):\n",
      "listing_id       170005 non-null int64\n",
      "id               170005 non-null int64\n",
      "date             170005 non-null object\n",
      "reviewer_id      170005 non-null int64\n",
      "reviewer_name    170005 non-null object\n",
      "comments         169940 non-null object\n",
      "dtypes: int64(3), object(3)\n",
      "memory usage: 7.8+ MB\n"
     ]
    }
   ],
   "source": [
    "df_reviews.info()"
   ]
  },
  {
   "cell_type": "code",
   "execution_count": 15,
   "metadata": {},
   "outputs": [
    {
     "name": "stdout",
     "output_type": "stream",
     "text": [
      "<class 'pandas.core.frame.DataFrame'>\n",
      "Int64Index: 170005 entries, 0 to 170004\n",
      "Columns: 112 entries, id_x to comments\n",
      "dtypes: float64(24), int64(24), object(64)\n",
      "memory usage: 146.6+ MB\n"
     ]
    }
   ],
   "source": [
    "df_listings_reviews.info()"
   ]
  },
  {
   "cell_type": "markdown",
   "metadata": {},
   "source": [
    "Alustavasti näyttää siltä, että dataa on riittävästi.<br>\n",
    "Tässä vaiheessa myös päätän käyttää em. dataseteistä kahta:<br>\n",
    "df_listings<br>\n",
    "df_listings_reviews<br>\n",
    "\n",
    "Molemmissa seteissä on yli 100 saraketta dataa ja koska Inside Airbnb sivulta en onnistunut löytämään datalle kuvauksia päätän seurata https://mapr.com/blog/predicting-airbnb-listing-prices-scikit-learn-and-apache-spark/ sivun esimerkkiä pienin muutoksin df_listings datasetin alustavaan muokkaamiseen.\n"
   ]
  },
  {
   "cell_type": "code",
   "execution_count": 16,
   "metadata": {},
   "outputs": [
    {
     "data": {
      "text/html": [
       "<div>\n",
       "<style scoped>\n",
       "    .dataframe tbody tr th:only-of-type {\n",
       "        vertical-align: middle;\n",
       "    }\n",
       "\n",
       "    .dataframe tbody tr th {\n",
       "        vertical-align: top;\n",
       "    }\n",
       "\n",
       "    .dataframe thead th {\n",
       "        text-align: right;\n",
       "    }\n",
       "</style>\n",
       "<table border=\"1\" class=\"dataframe\">\n",
       "  <thead>\n",
       "    <tr style=\"text-align: right;\">\n",
       "      <th></th>\n",
       "      <th>neighbourhood_cleansed</th>\n",
       "      <th>latitude</th>\n",
       "      <th>longitude</th>\n",
       "      <th>room_type</th>\n",
       "      <th>accommodates</th>\n",
       "      <th>bedrooms</th>\n",
       "      <th>beds</th>\n",
       "      <th>price</th>\n",
       "      <th>number_of_reviews</th>\n",
       "      <th>review_scores_rating</th>\n",
       "      <th>reviews_per_month</th>\n",
       "    </tr>\n",
       "  </thead>\n",
       "  <tbody>\n",
       "    <tr>\n",
       "      <th>0</th>\n",
       "      <td>Ludwigsvorstadt-Isarvorstadt</td>\n",
       "      <td>48.13057</td>\n",
       "      <td>11.56929</td>\n",
       "      <td>Entire home/apt</td>\n",
       "      <td>2</td>\n",
       "      <td>1.0</td>\n",
       "      <td>1.0</td>\n",
       "      <td>$95.00</td>\n",
       "      <td>25</td>\n",
       "      <td>98.0</td>\n",
       "      <td>0.38</td>\n",
       "    </tr>\n",
       "    <tr>\n",
       "      <th>1</th>\n",
       "      <td>Hadern</td>\n",
       "      <td>48.11476</td>\n",
       "      <td>11.48782</td>\n",
       "      <td>Entire home/apt</td>\n",
       "      <td>2</td>\n",
       "      <td>1.0</td>\n",
       "      <td>1.0</td>\n",
       "      <td>$80.00</td>\n",
       "      <td>128</td>\n",
       "      <td>97.0</td>\n",
       "      <td>1.32</td>\n",
       "    </tr>\n",
       "    <tr>\n",
       "      <th>2</th>\n",
       "      <td>Berg am Laim</td>\n",
       "      <td>48.11923</td>\n",
       "      <td>11.63726</td>\n",
       "      <td>Entire home/apt</td>\n",
       "      <td>5</td>\n",
       "      <td>1.0</td>\n",
       "      <td>3.0</td>\n",
       "      <td>$95.00</td>\n",
       "      <td>48</td>\n",
       "      <td>95.0</td>\n",
       "      <td>0.48</td>\n",
       "    </tr>\n",
       "    <tr>\n",
       "      <th>3</th>\n",
       "      <td>Maxvorstadt</td>\n",
       "      <td>48.15198</td>\n",
       "      <td>11.56486</td>\n",
       "      <td>Entire home/apt</td>\n",
       "      <td>4</td>\n",
       "      <td>1.0</td>\n",
       "      <td>1.0</td>\n",
       "      <td>$120.00</td>\n",
       "      <td>82</td>\n",
       "      <td>97.0</td>\n",
       "      <td>0.81</td>\n",
       "    </tr>\n",
       "    <tr>\n",
       "      <th>4</th>\n",
       "      <td>Pasing-Obermenzing</td>\n",
       "      <td>48.13898</td>\n",
       "      <td>11.46612</td>\n",
       "      <td>Entire home/apt</td>\n",
       "      <td>3</td>\n",
       "      <td>1.0</td>\n",
       "      <td>1.0</td>\n",
       "      <td>$55.00</td>\n",
       "      <td>30</td>\n",
       "      <td>93.0</td>\n",
       "      <td>0.30</td>\n",
       "    </tr>\n",
       "  </tbody>\n",
       "</table>\n",
       "</div>"
      ],
      "text/plain": [
       "         neighbourhood_cleansed  latitude  longitude        room_type  \\\n",
       "0  Ludwigsvorstadt-Isarvorstadt  48.13057   11.56929  Entire home/apt   \n",
       "1                        Hadern  48.11476   11.48782  Entire home/apt   \n",
       "2                  Berg am Laim  48.11923   11.63726  Entire home/apt   \n",
       "3                   Maxvorstadt  48.15198   11.56486  Entire home/apt   \n",
       "4            Pasing-Obermenzing  48.13898   11.46612  Entire home/apt   \n",
       "\n",
       "   accommodates  bedrooms  beds    price  number_of_reviews  \\\n",
       "0             2       1.0   1.0   $95.00                 25   \n",
       "1             2       1.0   1.0   $80.00                128   \n",
       "2             5       1.0   3.0   $95.00                 48   \n",
       "3             4       1.0   1.0  $120.00                 82   \n",
       "4             3       1.0   1.0   $55.00                 30   \n",
       "\n",
       "   review_scores_rating  reviews_per_month  \n",
       "0                  98.0               0.38  \n",
       "1                  97.0               1.32  \n",
       "2                  95.0               0.48  \n",
       "3                  97.0               0.81  \n",
       "4                  93.0               0.30  "
      ]
     },
     "execution_count": 16,
     "metadata": {},
     "output_type": "execute_result"
    }
   ],
   "source": [
    "cols1 = ['price',\n",
    "        'accommodates',\n",
    "        'bedrooms',\n",
    "        'beds',\n",
    "        'neighbourhood_cleansed',\n",
    "        'room_type',\n",
    "        'reviews_per_month',\n",
    "        'number_of_reviews',\n",
    "        'review_scores_rating',\n",
    "        'latitude',\n",
    "        'longitude'\n",
    "        ]\n",
    "\n",
    "df_listings_cleansed = pd.read_csv('listings.csv', usecols=cols1)\n",
    "#tarkistetaan tulos\n",
    "df_listings_cleansed.head()"
   ]
  },
  {
   "cell_type": "markdown",
   "metadata": {},
   "source": [
    "Muokataan price tiedot numeeriseen muotoon, poistetaan $ merkki"
   ]
  },
  {
   "cell_type": "code",
   "execution_count": 17,
   "metadata": {},
   "outputs": [],
   "source": [
    "\n",
    "df_listings_cleansed['price'] = df_listings_cleansed['price'].replace('[\\$,)]','',  \\\n",
    "        regex=True).replace('[(]','-', regex=True).astype(float)"
   ]
  },
  {
   "cell_type": "code",
   "execution_count": 18,
   "metadata": {},
   "outputs": [
    {
     "data": {
      "text/html": [
       "<div>\n",
       "<style scoped>\n",
       "    .dataframe tbody tr th:only-of-type {\n",
       "        vertical-align: middle;\n",
       "    }\n",
       "\n",
       "    .dataframe tbody tr th {\n",
       "        vertical-align: top;\n",
       "    }\n",
       "\n",
       "    .dataframe thead th {\n",
       "        text-align: right;\n",
       "    }\n",
       "</style>\n",
       "<table border=\"1\" class=\"dataframe\">\n",
       "  <thead>\n",
       "    <tr style=\"text-align: right;\">\n",
       "      <th></th>\n",
       "      <th>neighbourhood_cleansed</th>\n",
       "      <th>latitude</th>\n",
       "      <th>longitude</th>\n",
       "      <th>room_type</th>\n",
       "      <th>accommodates</th>\n",
       "      <th>bedrooms</th>\n",
       "      <th>beds</th>\n",
       "      <th>price</th>\n",
       "      <th>number_of_reviews</th>\n",
       "      <th>review_scores_rating</th>\n",
       "      <th>reviews_per_month</th>\n",
       "    </tr>\n",
       "  </thead>\n",
       "  <tbody>\n",
       "    <tr>\n",
       "      <th>0</th>\n",
       "      <td>Ludwigsvorstadt-Isarvorstadt</td>\n",
       "      <td>48.13057</td>\n",
       "      <td>11.56929</td>\n",
       "      <td>Entire home/apt</td>\n",
       "      <td>2</td>\n",
       "      <td>1.0</td>\n",
       "      <td>1.0</td>\n",
       "      <td>95.0</td>\n",
       "      <td>25</td>\n",
       "      <td>98.0</td>\n",
       "      <td>0.38</td>\n",
       "    </tr>\n",
       "    <tr>\n",
       "      <th>1</th>\n",
       "      <td>Hadern</td>\n",
       "      <td>48.11476</td>\n",
       "      <td>11.48782</td>\n",
       "      <td>Entire home/apt</td>\n",
       "      <td>2</td>\n",
       "      <td>1.0</td>\n",
       "      <td>1.0</td>\n",
       "      <td>80.0</td>\n",
       "      <td>128</td>\n",
       "      <td>97.0</td>\n",
       "      <td>1.32</td>\n",
       "    </tr>\n",
       "    <tr>\n",
       "      <th>2</th>\n",
       "      <td>Berg am Laim</td>\n",
       "      <td>48.11923</td>\n",
       "      <td>11.63726</td>\n",
       "      <td>Entire home/apt</td>\n",
       "      <td>5</td>\n",
       "      <td>1.0</td>\n",
       "      <td>3.0</td>\n",
       "      <td>95.0</td>\n",
       "      <td>48</td>\n",
       "      <td>95.0</td>\n",
       "      <td>0.48</td>\n",
       "    </tr>\n",
       "    <tr>\n",
       "      <th>3</th>\n",
       "      <td>Maxvorstadt</td>\n",
       "      <td>48.15198</td>\n",
       "      <td>11.56486</td>\n",
       "      <td>Entire home/apt</td>\n",
       "      <td>4</td>\n",
       "      <td>1.0</td>\n",
       "      <td>1.0</td>\n",
       "      <td>120.0</td>\n",
       "      <td>82</td>\n",
       "      <td>97.0</td>\n",
       "      <td>0.81</td>\n",
       "    </tr>\n",
       "    <tr>\n",
       "      <th>4</th>\n",
       "      <td>Pasing-Obermenzing</td>\n",
       "      <td>48.13898</td>\n",
       "      <td>11.46612</td>\n",
       "      <td>Entire home/apt</td>\n",
       "      <td>3</td>\n",
       "      <td>1.0</td>\n",
       "      <td>1.0</td>\n",
       "      <td>55.0</td>\n",
       "      <td>30</td>\n",
       "      <td>93.0</td>\n",
       "      <td>0.30</td>\n",
       "    </tr>\n",
       "  </tbody>\n",
       "</table>\n",
       "</div>"
      ],
      "text/plain": [
       "         neighbourhood_cleansed  latitude  longitude        room_type  \\\n",
       "0  Ludwigsvorstadt-Isarvorstadt  48.13057   11.56929  Entire home/apt   \n",
       "1                        Hadern  48.11476   11.48782  Entire home/apt   \n",
       "2                  Berg am Laim  48.11923   11.63726  Entire home/apt   \n",
       "3                   Maxvorstadt  48.15198   11.56486  Entire home/apt   \n",
       "4            Pasing-Obermenzing  48.13898   11.46612  Entire home/apt   \n",
       "\n",
       "   accommodates  bedrooms  beds  price  number_of_reviews  \\\n",
       "0             2       1.0   1.0   95.0                 25   \n",
       "1             2       1.0   1.0   80.0                128   \n",
       "2             5       1.0   3.0   95.0                 48   \n",
       "3             4       1.0   1.0  120.0                 82   \n",
       "4             3       1.0   1.0   55.0                 30   \n",
       "\n",
       "   review_scores_rating  reviews_per_month  \n",
       "0                  98.0               0.38  \n",
       "1                  97.0               1.32  \n",
       "2                  95.0               0.48  \n",
       "3                  97.0               0.81  \n",
       "4                  93.0               0.30  "
      ]
     },
     "execution_count": 18,
     "metadata": {},
     "output_type": "execute_result"
    }
   ],
   "source": [
    "df_listings_cleansed.head()"
   ]
  },
  {
   "cell_type": "code",
   "execution_count": 19,
   "metadata": {},
   "outputs": [
    {
     "data": {
      "text/plain": [
       "neighbourhood_cleansed     object\n",
       "latitude                  float64\n",
       "longitude                 float64\n",
       "room_type                  object\n",
       "accommodates                int64\n",
       "bedrooms                  float64\n",
       "beds                      float64\n",
       "price                     float64\n",
       "number_of_reviews           int64\n",
       "review_scores_rating      float64\n",
       "reviews_per_month         float64\n",
       "dtype: object"
      ]
     },
     "execution_count": 19,
     "metadata": {},
     "output_type": "execute_result"
    }
   ],
   "source": [
    "df_listings_cleansed.dtypes"
   ]
  },
  {
   "cell_type": "markdown",
   "metadata": {},
   "source": [
    "### price muunnos onnistui<br>\n",
    "jatketaan datan tutkimista ja muokkaamista"
   ]
  },
  {
   "cell_type": "code",
   "execution_count": 20,
   "metadata": {},
   "outputs": [
    {
     "data": {
      "text/plain": [
       "neighbourhood_cleansed       0\n",
       "latitude                     0\n",
       "longitude                    0\n",
       "room_type                    0\n",
       "accommodates                 0\n",
       "bedrooms                    31\n",
       "beds                        12\n",
       "price                        0\n",
       "number_of_reviews            0\n",
       "review_scores_rating      4024\n",
       "reviews_per_month         3784\n",
       "dtype: int64"
      ]
     },
     "execution_count": 20,
     "metadata": {},
     "output_type": "execute_result"
    }
   ],
   "source": [
    "#tutkitaan kuinka paljon löytyy tyhjiä soluja eri sarakkeissa\n",
    "df_listings_cleansed.isnull().sum()"
   ]
  },
  {
   "cell_type": "markdown",
   "metadata": {},
   "source": [
    "Ei mitään kovin vakavaa, poistetaan rivit joissa bedrooms tai bed on nolla ja korvataan review_scores_rating ja reviews_per_month null arvot arvolla 0."
   ]
  },
  {
   "cell_type": "code",
   "execution_count": 34,
   "metadata": {},
   "outputs": [],
   "source": [
    "#nollarivien poisto\n",
    "df_listings_cleansed_zeros_removed =df_listings_cleansed.dropna(subset = ['bedrooms', 'beds'])\n",
    "#Null arvojen korvaaminen \n",
    "df_listings_cleansed_zeros_removed_NaN_replaced = df_listings_cleansed_zeros_removed.fillna(0)"
   ]
  },
  {
   "cell_type": "code",
   "execution_count": 35,
   "metadata": {},
   "outputs": [
    {
     "data": {
      "text/html": [
       "<div>\n",
       "<style scoped>\n",
       "    .dataframe tbody tr th:only-of-type {\n",
       "        vertical-align: middle;\n",
       "    }\n",
       "\n",
       "    .dataframe tbody tr th {\n",
       "        vertical-align: top;\n",
       "    }\n",
       "\n",
       "    .dataframe thead th {\n",
       "        text-align: right;\n",
       "    }\n",
       "</style>\n",
       "<table border=\"1\" class=\"dataframe\">\n",
       "  <thead>\n",
       "    <tr style=\"text-align: right;\">\n",
       "      <th></th>\n",
       "      <th>latitude</th>\n",
       "      <th>longitude</th>\n",
       "      <th>accommodates</th>\n",
       "      <th>bedrooms</th>\n",
       "      <th>beds</th>\n",
       "      <th>price</th>\n",
       "      <th>number_of_reviews</th>\n",
       "      <th>review_scores_rating</th>\n",
       "      <th>reviews_per_month</th>\n",
       "    </tr>\n",
       "  </thead>\n",
       "  <tbody>\n",
       "    <tr>\n",
       "      <th>count</th>\n",
       "      <td>12315.000000</td>\n",
       "      <td>12315.000000</td>\n",
       "      <td>12315.000000</td>\n",
       "      <td>12315.000000</td>\n",
       "      <td>12315.000000</td>\n",
       "      <td>12315.000000</td>\n",
       "      <td>12315.000000</td>\n",
       "      <td>12315.000000</td>\n",
       "      <td>12315.000000</td>\n",
       "    </tr>\n",
       "    <tr>\n",
       "      <th>mean</th>\n",
       "      <td>48.140001</td>\n",
       "      <td>11.564667</td>\n",
       "      <td>2.711571</td>\n",
       "      <td>1.091758</td>\n",
       "      <td>1.551929</td>\n",
       "      <td>119.205441</td>\n",
       "      <td>13.796346</td>\n",
       "      <td>64.097929</td>\n",
       "      <td>0.649449</td>\n",
       "    </tr>\n",
       "    <tr>\n",
       "      <th>std</th>\n",
       "      <td>0.025130</td>\n",
       "      <td>0.043892</td>\n",
       "      <td>1.515163</td>\n",
       "      <td>0.707182</td>\n",
       "      <td>1.237362</td>\n",
       "      <td>126.958472</td>\n",
       "      <td>37.342559</td>\n",
       "      <td>44.912452</td>\n",
       "      <td>1.354135</td>\n",
       "    </tr>\n",
       "    <tr>\n",
       "      <th>min</th>\n",
       "      <td>48.063700</td>\n",
       "      <td>11.378370</td>\n",
       "      <td>1.000000</td>\n",
       "      <td>0.000000</td>\n",
       "      <td>0.000000</td>\n",
       "      <td>8.000000</td>\n",
       "      <td>0.000000</td>\n",
       "      <td>0.000000</td>\n",
       "      <td>0.000000</td>\n",
       "    </tr>\n",
       "    <tr>\n",
       "      <th>25%</th>\n",
       "      <td>48.123285</td>\n",
       "      <td>11.540785</td>\n",
       "      <td>2.000000</td>\n",
       "      <td>1.000000</td>\n",
       "      <td>1.000000</td>\n",
       "      <td>55.000000</td>\n",
       "      <td>0.000000</td>\n",
       "      <td>0.000000</td>\n",
       "      <td>0.000000</td>\n",
       "    </tr>\n",
       "    <tr>\n",
       "      <th>50%</th>\n",
       "      <td>48.137410</td>\n",
       "      <td>11.565700</td>\n",
       "      <td>2.000000</td>\n",
       "      <td>1.000000</td>\n",
       "      <td>1.000000</td>\n",
       "      <td>89.000000</td>\n",
       "      <td>2.000000</td>\n",
       "      <td>93.000000</td>\n",
       "      <td>0.180000</td>\n",
       "    </tr>\n",
       "    <tr>\n",
       "      <th>75%</th>\n",
       "      <td>48.156120</td>\n",
       "      <td>11.584835</td>\n",
       "      <td>3.000000</td>\n",
       "      <td>1.000000</td>\n",
       "      <td>2.000000</td>\n",
       "      <td>140.000000</td>\n",
       "      <td>10.000000</td>\n",
       "      <td>100.000000</td>\n",
       "      <td>0.770000</td>\n",
       "    </tr>\n",
       "    <tr>\n",
       "      <th>max</th>\n",
       "      <td>48.231090</td>\n",
       "      <td>11.712280</td>\n",
       "      <td>16.000000</td>\n",
       "      <td>25.000000</td>\n",
       "      <td>50.000000</td>\n",
       "      <td>5000.000000</td>\n",
       "      <td>680.000000</td>\n",
       "      <td>100.000000</td>\n",
       "      <td>73.580000</td>\n",
       "    </tr>\n",
       "  </tbody>\n",
       "</table>\n",
       "</div>"
      ],
      "text/plain": [
       "           latitude     longitude  accommodates      bedrooms          beds  \\\n",
       "count  12315.000000  12315.000000  12315.000000  12315.000000  12315.000000   \n",
       "mean      48.140001     11.564667      2.711571      1.091758      1.551929   \n",
       "std        0.025130      0.043892      1.515163      0.707182      1.237362   \n",
       "min       48.063700     11.378370      1.000000      0.000000      0.000000   \n",
       "25%       48.123285     11.540785      2.000000      1.000000      1.000000   \n",
       "50%       48.137410     11.565700      2.000000      1.000000      1.000000   \n",
       "75%       48.156120     11.584835      3.000000      1.000000      2.000000   \n",
       "max       48.231090     11.712280     16.000000     25.000000     50.000000   \n",
       "\n",
       "              price  number_of_reviews  review_scores_rating  \\\n",
       "count  12315.000000       12315.000000          12315.000000   \n",
       "mean     119.205441          13.796346             64.097929   \n",
       "std      126.958472          37.342559             44.912452   \n",
       "min        8.000000           0.000000              0.000000   \n",
       "25%       55.000000           0.000000              0.000000   \n",
       "50%       89.000000           2.000000             93.000000   \n",
       "75%      140.000000          10.000000            100.000000   \n",
       "max     5000.000000         680.000000            100.000000   \n",
       "\n",
       "       reviews_per_month  \n",
       "count       12315.000000  \n",
       "mean            0.649449  \n",
       "std             1.354135  \n",
       "min             0.000000  \n",
       "25%             0.000000  \n",
       "50%             0.180000  \n",
       "75%             0.770000  \n",
       "max            73.580000  "
      ]
     },
     "execution_count": 35,
     "metadata": {},
     "output_type": "execute_result"
    }
   ],
   "source": [
    "df_listings_cleansed_zeros_removed_NaN_replaced.describe()"
   ]
  },
  {
   "cell_type": "markdown",
   "metadata": {},
   "source": [
    "price vaihtelu $8 ja $5000 välillä, hintaennustimen kohdalla ääriarvoja on ehkä syytä poistaa.<br>\n",
    "Palataan siihen myöhemmin."
   ]
  },
  {
   "cell_type": "code",
   "execution_count": 36,
   "metadata": {},
   "outputs": [
    {
     "data": {
      "text/plain": [
       "neighbourhood_cleansed    0\n",
       "latitude                  0\n",
       "longitude                 0\n",
       "room_type                 0\n",
       "accommodates              0\n",
       "bedrooms                  0\n",
       "beds                      0\n",
       "price                     0\n",
       "number_of_reviews         0\n",
       "review_scores_rating      0\n",
       "reviews_per_month         0\n",
       "dtype: int64"
      ]
     },
     "execution_count": 36,
     "metadata": {},
     "output_type": "execute_result"
    }
   ],
   "source": [
    "df_listings_cleansed_zeros_removed_NaN_replaced.isnull().sum()"
   ]
  },
  {
   "cell_type": "code",
   "execution_count": null,
   "metadata": {},
   "outputs": [],
   "source": [
    "#data vaikuttaa olevan ok siivousoperaation jäljiltä."
   ]
  },
  {
   "cell_type": "code",
   "execution_count": 40,
   "metadata": {},
   "outputs": [
    {
     "name": "stdout",
     "output_type": "stream",
     "text": [
      "<class 'pandas.core.frame.DataFrame'>\n",
      "Int64Index: 12315 entries, 0 to 12356\n",
      "Data columns (total 11 columns):\n",
      "neighbourhood_cleansed    12315 non-null object\n",
      "latitude                  12315 non-null float64\n",
      "longitude                 12315 non-null float64\n",
      "room_type                 12315 non-null object\n",
      "accommodates              12315 non-null int64\n",
      "bedrooms                  12315 non-null float64\n",
      "beds                      12315 non-null float64\n",
      "price                     12315 non-null float64\n",
      "number_of_reviews         12315 non-null int64\n",
      "review_scores_rating      12315 non-null float64\n",
      "reviews_per_month         12315 non-null float64\n",
      "dtypes: float64(7), int64(2), object(2)\n",
      "memory usage: 1.1+ MB\n"
     ]
    }
   ],
   "source": [
    "df_listings_cleansed_zeros_removed_NaN_replaced.info()"
   ]
  },
  {
   "cell_type": "markdown",
   "metadata": {},
   "source": [
    "Muokataan df_listings_reviews datasetin sarakkeet"
   ]
  },
  {
   "cell_type": "code",
   "execution_count": 25,
   "metadata": {},
   "outputs": [
    {
     "data": {
      "text/html": [
       "<div>\n",
       "<style scoped>\n",
       "    .dataframe tbody tr th:only-of-type {\n",
       "        vertical-align: middle;\n",
       "    }\n",
       "\n",
       "    .dataframe tbody tr th {\n",
       "        vertical-align: top;\n",
       "    }\n",
       "\n",
       "    .dataframe thead th {\n",
       "        text-align: right;\n",
       "    }\n",
       "</style>\n",
       "<table border=\"1\" class=\"dataframe\">\n",
       "  <thead>\n",
       "    <tr style=\"text-align: right;\">\n",
       "      <th></th>\n",
       "      <th>neighbourhood_cleansed</th>\n",
       "      <th>room_type</th>\n",
       "      <th>number_of_reviews</th>\n",
       "      <th>review_scores_rating</th>\n",
       "      <th>reviews_per_month</th>\n",
       "      <th>listing_id</th>\n",
       "      <th>date</th>\n",
       "      <th>reviewer_id</th>\n",
       "      <th>reviewer_name</th>\n",
       "      <th>comments</th>\n",
       "    </tr>\n",
       "  </thead>\n",
       "  <tbody>\n",
       "    <tr>\n",
       "      <th>0</th>\n",
       "      <td>Ludwigsvorstadt-Isarvorstadt</td>\n",
       "      <td>Entire home/apt</td>\n",
       "      <td>25</td>\n",
       "      <td>98.0</td>\n",
       "      <td>0.38</td>\n",
       "      <td>36720</td>\n",
       "      <td>2014-05-09</td>\n",
       "      <td>11840468</td>\n",
       "      <td>Mikhail</td>\n",
       "      <td>I would like to thank Gabriella as her apartme...</td>\n",
       "    </tr>\n",
       "    <tr>\n",
       "      <th>1</th>\n",
       "      <td>Ludwigsvorstadt-Isarvorstadt</td>\n",
       "      <td>Entire home/apt</td>\n",
       "      <td>25</td>\n",
       "      <td>98.0</td>\n",
       "      <td>0.38</td>\n",
       "      <td>36720</td>\n",
       "      <td>2014-05-20</td>\n",
       "      <td>5466213</td>\n",
       "      <td>Kim</td>\n",
       "      <td>Gabriela's place was absolutely fantastic.  It...</td>\n",
       "    </tr>\n",
       "    <tr>\n",
       "      <th>2</th>\n",
       "      <td>Ludwigsvorstadt-Isarvorstadt</td>\n",
       "      <td>Entire home/apt</td>\n",
       "      <td>25</td>\n",
       "      <td>98.0</td>\n",
       "      <td>0.38</td>\n",
       "      <td>36720</td>\n",
       "      <td>2014-07-25</td>\n",
       "      <td>2062882</td>\n",
       "      <td>Juan R.</td>\n",
       "      <td>Quiet place, open to a courtyard, with all the...</td>\n",
       "    </tr>\n",
       "    <tr>\n",
       "      <th>3</th>\n",
       "      <td>Ludwigsvorstadt-Isarvorstadt</td>\n",
       "      <td>Entire home/apt</td>\n",
       "      <td>25</td>\n",
       "      <td>98.0</td>\n",
       "      <td>0.38</td>\n",
       "      <td>36720</td>\n",
       "      <td>2014-07-27</td>\n",
       "      <td>1225618</td>\n",
       "      <td>David</td>\n",
       "      <td>The best Airbnb expeierence I've had. The apar...</td>\n",
       "    </tr>\n",
       "    <tr>\n",
       "      <th>4</th>\n",
       "      <td>Ludwigsvorstadt-Isarvorstadt</td>\n",
       "      <td>Entire home/apt</td>\n",
       "      <td>25</td>\n",
       "      <td>98.0</td>\n",
       "      <td>0.38</td>\n",
       "      <td>36720</td>\n",
       "      <td>2014-09-13</td>\n",
       "      <td>13977301</td>\n",
       "      <td>Cal</td>\n",
       "      <td>All first rate ! Beautiful apartment, comforta...</td>\n",
       "    </tr>\n",
       "  </tbody>\n",
       "</table>\n",
       "</div>"
      ],
      "text/plain": [
       "         neighbourhood_cleansed        room_type  number_of_reviews  \\\n",
       "0  Ludwigsvorstadt-Isarvorstadt  Entire home/apt                 25   \n",
       "1  Ludwigsvorstadt-Isarvorstadt  Entire home/apt                 25   \n",
       "2  Ludwigsvorstadt-Isarvorstadt  Entire home/apt                 25   \n",
       "3  Ludwigsvorstadt-Isarvorstadt  Entire home/apt                 25   \n",
       "4  Ludwigsvorstadt-Isarvorstadt  Entire home/apt                 25   \n",
       "\n",
       "   review_scores_rating  reviews_per_month  listing_id        date  \\\n",
       "0                  98.0               0.38       36720  2014-05-09   \n",
       "1                  98.0               0.38       36720  2014-05-20   \n",
       "2                  98.0               0.38       36720  2014-07-25   \n",
       "3                  98.0               0.38       36720  2014-07-27   \n",
       "4                  98.0               0.38       36720  2014-09-13   \n",
       "\n",
       "   reviewer_id reviewer_name  \\\n",
       "0     11840468       Mikhail   \n",
       "1      5466213           Kim   \n",
       "2      2062882       Juan R.   \n",
       "3      1225618         David   \n",
       "4     13977301           Cal   \n",
       "\n",
       "                                            comments  \n",
       "0  I would like to thank Gabriella as her apartme...  \n",
       "1  Gabriela's place was absolutely fantastic.  It...  \n",
       "2  Quiet place, open to a courtyard, with all the...  \n",
       "3  The best Airbnb expeierence I've had. The apar...  \n",
       "4  All first rate ! Beautiful apartment, comforta...  "
      ]
     },
     "execution_count": 25,
     "metadata": {},
     "output_type": "execute_result"
    }
   ],
   "source": [
    "cols2 = ['reviewer_id',\n",
    "        'reviewer_name',\n",
    "        'date',\n",
    "        'comments',\n",
    "        'listing_id',\n",
    "        'neighbourhood_cleansed',\n",
    "        'room_type',\n",
    "        'reviews_per_month',\n",
    "        'number_of_reviews',\n",
    "        'review_scores_rating'\n",
    "        ]\n",
    "\n",
    "df_listings_reviews_cleansed = pd.read_csv('listings_reviews.csv', usecols=cols2)\n",
    "#tarkistetaan tulos\n",
    "df_listings_reviews_cleansed.head()"
   ]
  },
  {
   "cell_type": "code",
   "execution_count": 42,
   "metadata": {},
   "outputs": [
    {
     "name": "stdout",
     "output_type": "stream",
     "text": [
      "<class 'pandas.core.frame.DataFrame'>\n",
      "RangeIndex: 170005 entries, 0 to 170004\n",
      "Data columns (total 10 columns):\n",
      "neighbourhood_cleansed    170005 non-null object\n",
      "room_type                 170005 non-null object\n",
      "number_of_reviews         170005 non-null int64\n",
      "review_scores_rating      169696 non-null float64\n",
      "reviews_per_month         170005 non-null float64\n",
      "listing_id                170005 non-null int64\n",
      "date                      170005 non-null object\n",
      "reviewer_id               170005 non-null int64\n",
      "reviewer_name             170005 non-null object\n",
      "comments                  169940 non-null object\n",
      "dtypes: float64(2), int64(3), object(5)\n",
      "memory usage: 13.0+ MB\n"
     ]
    }
   ],
   "source": [
    "df_listings_reviews_cleansed.info()"
   ]
  },
  {
   "cell_type": "code",
   "execution_count": 43,
   "metadata": {},
   "outputs": [
    {
     "data": {
      "text/plain": [
       "neighbourhood_cleansed      0\n",
       "room_type                   0\n",
       "number_of_reviews           0\n",
       "review_scores_rating      309\n",
       "reviews_per_month           0\n",
       "listing_id                  0\n",
       "date                        0\n",
       "reviewer_id                 0\n",
       "reviewer_name               0\n",
       "comments                   65\n",
       "dtype: int64"
      ]
     },
     "execution_count": 43,
     "metadata": {},
     "output_type": "execute_result"
    }
   ],
   "source": [
    "df_listings_reviews_cleansed.isnull().sum()"
   ]
  },
  {
   "cell_type": "code",
   "execution_count": null,
   "metadata": {},
   "outputs": [],
   "source": [
    "# Null arvot eivät haittaa joten annetaan olla alkuperäisessä muodossa."
   ]
  }
 ],
 "metadata": {
  "kernelspec": {
   "display_name": "Python 3",
   "language": "python",
   "name": "python3"
  },
  "language_info": {
   "codemirror_mode": {
    "name": "ipython",
    "version": 3
   },
   "file_extension": ".py",
   "mimetype": "text/x-python",
   "name": "python",
   "nbconvert_exporter": "python",
   "pygments_lexer": "ipython3",
   "version": "3.7.3"
  }
 },
 "nbformat": 4,
 "nbformat_minor": 2
}
